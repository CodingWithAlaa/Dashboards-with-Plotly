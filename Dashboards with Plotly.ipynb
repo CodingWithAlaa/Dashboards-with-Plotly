{
 "cells": [
  {
   "cell_type": "markdown",
   "id": "5cce20d1-8004-42f3-b96c-d779987168ab",
   "metadata": {},
   "source": [
    "# 📝 Task 1: Live Text Update vs. Button-Triggered Update\n",
    "    \n",
    "# Requirement\n",
    "    Build a simple Dash app that includes:\n",
    "    - An input box (dcc.Input) where the user types text.\n",
    "    - Two ways to update the text display:\n",
    "      1. Live Update: The displayed text updates dynamically as the user types.\n",
    "      2. Button-Triggered Update: The displayed text updates only when a button is clicked.\n",
    "    \n",
    "# Example Layout\n",
    "    - dcc.Input: User enters text.\n",
    "    - html.Button: Triggers the text update (for State example).\n",
    "    - html.H3: Displays the entered text.\n",
    "    "
   ]
  },
  {
   "cell_type": "code",
   "execution_count": 6,
   "id": "4c3106e8-2891-48f8-aaea-d02374a77610",
   "metadata": {},
   "outputs": [
    {
     "name": "stdout",
     "output_type": "stream",
     "text": [
      "Requirement already satisfied: dash in c:\\users\\ahmed mohamed\\anaconda3\\lib\\site-packages (2.18.2)\n",
      "Requirement already satisfied: Flask<3.1,>=1.0.4 in c:\\users\\ahmed mohamed\\anaconda3\\lib\\site-packages (from dash) (3.0.3)\n",
      "Requirement already satisfied: Werkzeug<3.1 in c:\\users\\ahmed mohamed\\anaconda3\\lib\\site-packages (from dash) (3.0.3)\n",
      "Requirement already satisfied: plotly>=5.0.0 in c:\\users\\ahmed mohamed\\anaconda3\\lib\\site-packages (from dash) (5.24.1)\n",
      "Requirement already satisfied: dash-html-components==2.0.0 in c:\\users\\ahmed mohamed\\anaconda3\\lib\\site-packages (from dash) (2.0.0)\n",
      "Requirement already satisfied: dash-core-components==2.0.0 in c:\\users\\ahmed mohamed\\anaconda3\\lib\\site-packages (from dash) (2.0.0)\n",
      "Requirement already satisfied: dash-table==5.0.0 in c:\\users\\ahmed mohamed\\anaconda3\\lib\\site-packages (from dash) (5.0.0)\n",
      "Requirement already satisfied: importlib-metadata in c:\\users\\ahmed mohamed\\anaconda3\\lib\\site-packages (from dash) (7.0.1)\n",
      "Requirement already satisfied: typing-extensions>=4.1.1 in c:\\users\\ahmed mohamed\\anaconda3\\lib\\site-packages (from dash) (4.11.0)\n",
      "Requirement already satisfied: requests in c:\\users\\ahmed mohamed\\anaconda3\\lib\\site-packages (from dash) (2.32.3)\n",
      "Requirement already satisfied: retrying in c:\\users\\ahmed mohamed\\anaconda3\\lib\\site-packages (from dash) (1.3.4)\n",
      "Requirement already satisfied: nest-asyncio in c:\\users\\ahmed mohamed\\anaconda3\\lib\\site-packages (from dash) (1.6.0)\n",
      "Requirement already satisfied: setuptools in c:\\users\\ahmed mohamed\\anaconda3\\lib\\site-packages (from dash) (75.1.0)\n",
      "Requirement already satisfied: Jinja2>=3.1.2 in c:\\users\\ahmed mohamed\\anaconda3\\lib\\site-packages (from Flask<3.1,>=1.0.4->dash) (3.1.4)\n",
      "Requirement already satisfied: itsdangerous>=2.1.2 in c:\\users\\ahmed mohamed\\anaconda3\\lib\\site-packages (from Flask<3.1,>=1.0.4->dash) (2.2.0)\n",
      "Requirement already satisfied: click>=8.1.3 in c:\\users\\ahmed mohamed\\anaconda3\\lib\\site-packages (from Flask<3.1,>=1.0.4->dash) (8.1.7)\n",
      "Requirement already satisfied: blinker>=1.6.2 in c:\\users\\ahmed mohamed\\anaconda3\\lib\\site-packages (from Flask<3.1,>=1.0.4->dash) (1.6.2)\n",
      "Requirement already satisfied: tenacity>=6.2.0 in c:\\users\\ahmed mohamed\\anaconda3\\lib\\site-packages (from plotly>=5.0.0->dash) (8.2.3)\n",
      "Requirement already satisfied: packaging in c:\\users\\ahmed mohamed\\anaconda3\\lib\\site-packages (from plotly>=5.0.0->dash) (24.1)\n",
      "Requirement already satisfied: MarkupSafe>=2.1.1 in c:\\users\\ahmed mohamed\\anaconda3\\lib\\site-packages (from Werkzeug<3.1->dash) (2.1.3)\n",
      "Requirement already satisfied: zipp>=0.5 in c:\\users\\ahmed mohamed\\anaconda3\\lib\\site-packages (from importlib-metadata->dash) (3.17.0)\n",
      "Requirement already satisfied: charset-normalizer<4,>=2 in c:\\users\\ahmed mohamed\\anaconda3\\lib\\site-packages (from requests->dash) (3.3.2)\n",
      "Requirement already satisfied: idna<4,>=2.5 in c:\\users\\ahmed mohamed\\anaconda3\\lib\\site-packages (from requests->dash) (3.7)\n",
      "Requirement already satisfied: urllib3<3,>=1.21.1 in c:\\users\\ahmed mohamed\\anaconda3\\lib\\site-packages (from requests->dash) (2.2.3)\n",
      "Requirement already satisfied: certifi>=2017.4.17 in c:\\users\\ahmed mohamed\\anaconda3\\lib\\site-packages (from requests->dash) (2024.8.30)\n",
      "Requirement already satisfied: six>=1.7.0 in c:\\users\\ahmed mohamed\\anaconda3\\lib\\site-packages (from retrying->dash) (1.16.0)\n",
      "Requirement already satisfied: colorama in c:\\users\\ahmed mohamed\\anaconda3\\lib\\site-packages (from click>=8.1.3->Flask<3.1,>=1.0.4->dash) (0.4.6)\n",
      "Note: you may need to restart the kernel to use updated packages.\n"
     ]
    }
   ],
   "source": [
    "pip install dash"
   ]
  },
  {
   "cell_type": "code",
   "execution_count": 1,
   "id": "91682bd2-9563-4016-be9c-6cac5758478d",
   "metadata": {},
   "outputs": [
    {
     "data": {
      "text/html": [
       "\n",
       "        <iframe\n",
       "            width=\"100%\"\n",
       "            height=\"650\"\n",
       "            src=\"http://127.0.0.1:8053/\"\n",
       "            frameborder=\"0\"\n",
       "            allowfullscreen\n",
       "            \n",
       "        ></iframe>\n",
       "        "
      ],
      "text/plain": [
       "<IPython.lib.display.IFrame at 0x23a3d47f4d0>"
      ]
     },
     "metadata": {},
     "output_type": "display_data"
    }
   ],
   "source": [
    "import dash\n",
    "from dash import dcc, html, Input, Output, State\n",
    "\n",
    "app = dash.Dash(__name__)\n",
    "\n",
    "app.layout = html.Div([\n",
    "    dcc.Input(id='input-live', type='text', placeholder='Type here...', debounce=False),\n",
    "    html.H3(id='live-output', children='Live update text will appear here'),\n",
    "    \n",
    "    dcc.Input(id='input-button', type='text', placeholder='Type here for button update...'),\n",
    "    html.Button('Update Text', id='update-button', n_clicks=0),\n",
    "    html.H3(id='button-output', children='Button update text will appear here')\n",
    "])\n",
    "\n",
    "@app.callback(\n",
    "    Output('live-output', 'children'),\n",
    "    Input('input-live', 'value')\n",
    ")\n",
    "def update_live_text(value):\n",
    "    return value if value else \"Live update text will appear here\"\n",
    "\n",
    "@app.callback(\n",
    "    Output('button-output', 'children'),\n",
    "    Input('update-button', 'n_clicks'),\n",
    "    State('input-button', 'value')\n",
    ")\n",
    "def update_button_text(n_clicks, value):\n",
    "    return value if n_clicks > 0 and value else \"Button update text will appear here\"\n",
    "\n",
    "if __name__ == '__main__':\n",
    "    app.run_server(debug=True   , port=8053)\n"
   ]
  },
  {
   "cell_type": "markdown",
   "id": "c38484af-fb67-4bca-9f24-95e1fcfea984",
   "metadata": {},
   "source": [
    "# 📝 Task 2: Interactive Chart with Multiple Inputs\n",
    "\n",
    "# Requirement\n",
    "\n",
    "Build a data visualization dashboard where:\n",
    "- A user selects a country from a dropdown menu.\n",
    "- A slider allows adjusting the year range for data filtering.\n",
    "- A line chart (`dcc.Graph`) updates dynamically to show trends based on both inputs.\n",
    "\n",
    "# Example Layout\n",
    "- dcc.Dropdown: Select a country.\n",
    "- dcc.RangeSlider: Select a year range.\n",
    "- dcc.Graph: Displays filtered data as a line chart.\n"
   ]
  },
  {
   "cell_type": "code",
   "execution_count": 2,
   "id": "b39f1ad8-01b4-44ff-8420-1e6b4881f72a",
   "metadata": {},
   "outputs": [
    {
     "data": {
      "text/html": [
       "\n",
       "        <iframe\n",
       "            width=\"100%\"\n",
       "            height=\"650\"\n",
       "            src=\"http://127.0.0.1:8054/\"\n",
       "            frameborder=\"0\"\n",
       "            allowfullscreen\n",
       "            \n",
       "        ></iframe>\n",
       "        "
      ],
      "text/plain": [
       "<IPython.lib.display.IFrame at 0x23a3ddcf0b0>"
      ]
     },
     "metadata": {},
     "output_type": "display_data"
    }
   ],
   "source": [
    "import dash\n",
    "from dash import dcc, html, Input, Output\n",
    "import plotly.express as px\n",
    "import pandas as pd\n",
    "import numpy as np\n",
    "\n",
    "\n",
    "df = pd.DataFrame({\n",
    "    'Year': np.tile(np.arange(2000, 2023), 5),\n",
    "    'Country': np.repeat(['USA', 'Canada', 'Germany', 'India', 'Japan'], 23),\n",
    "    'Value': np.random.randint(50, 500, 115)\n",
    "})\n",
    "\n",
    "\n",
    "app = dash.Dash(__name__)\n",
    "\n",
    "# Layout\n",
    "app.layout = html.Div([\n",
    "    html.H2(\"Interactive Chart with Multiple Inputs\"),\n",
    "    \n",
    "    html.Label(\"Select a Country:\"),\n",
    "    dcc.Dropdown(\n",
    "        id='country-dropdown',\n",
    "        options=[{'label': c, 'value': c} for c in df['Country'].unique()],\n",
    "        value='USA',\n",
    "        clearable=False\n",
    "    ),\n",
    "    \n",
    "    html.Label(\"Select Year Range:\"),\n",
    "    dcc.RangeSlider(\n",
    "        id='year-slider',\n",
    "        min=df['Year'].min(),\n",
    "        max=df['Year'].max(),\n",
    "        value=[2005, 2015],\n",
    "        marks={year: str(year) for year in range(df['Year'].min(), df['Year'].max()+1, 2)},\n",
    "        step=1\n",
    "    ),\n",
    "    \n",
    "    dcc.Graph(id='line-chart')\n",
    "])\n",
    "\n",
    "\n",
    "@app.callback(\n",
    "    Output('line-chart', 'figure'),\n",
    "    Input('country-dropdown', 'value'),\n",
    "    Input('year-slider', 'value')\n",
    ")\n",
    "def update_chart(selected_country, selected_years):\n",
    "    filtered_df = df[(df['Country'] == selected_country) &\n",
    "                     (df['Year'] >= selected_years[0]) &\n",
    "                     (df['Year'] <= selected_years[1])]\n",
    "    \n",
    "    fig = px.line(filtered_df, x='Year', y='Value', title=f'Trends in {selected_country}', markers=True)\n",
    "    return fig\n",
    "\n",
    "if __name__ == '__main__':\n",
    "    app.run_server(debug=True   , port=8054)"
   ]
  },
  {
   "cell_type": "markdown",
   "id": "b8179e8f-7788-4f36-b75b-3a1348de46e7",
   "metadata": {},
   "source": [
    "# 📝 Task 3: Multiple Outputs - Interactive UI Updates\n",
    "\n",
    "# Requirement\n",
    "Create an interactive dashboard where clicking a button updates two components simultaneously:\n",
    "- A text component (`html.H3`) displaying how many times the button has been clicked.\n",
    "- A background color of a `html.Div`, which changes color randomly on each click.\n",
    "\n",
    "# Example Layout\n",
    "- html.Button: Click to trigger updates.\n",
    "- html.H3: Displays the number of clicks.\n",
    "- html.Div: Background color changes dynamically."
   ]
  },
  {
   "cell_type": "code",
   "execution_count": 3,
   "id": "c33d149c-5d87-4f87-8240-ba4b90bb9531",
   "metadata": {},
   "outputs": [
    {
     "data": {
      "text/html": [
       "\n",
       "        <iframe\n",
       "            width=\"100%\"\n",
       "            height=\"650\"\n",
       "            src=\"http://127.0.0.1:8055/\"\n",
       "            frameborder=\"0\"\n",
       "            allowfullscreen\n",
       "            \n",
       "        ></iframe>\n",
       "        "
      ],
      "text/plain": [
       "<IPython.lib.display.IFrame at 0x23a421987d0>"
      ]
     },
     "metadata": {},
     "output_type": "display_data"
    }
   ],
   "source": [
    "import dash\n",
    "from dash import dcc, html, Input, Output\n",
    "import random\n",
    "\n",
    "\n",
    "def random_color():\n",
    "    return f'rgb({random.randint(0,255)}, {random.randint(0,255)}, {random.randint(0,255)})'\n",
    "\n",
    "\n",
    "app = dash.Dash(__name__)\n",
    "\n",
    "\n",
    "app.layout = html.Div([\n",
    "    html.Button('Click Me', id='click-button', n_clicks=0),\n",
    "    html.H3(id='click-count', children='Button clicked 0 times'),\n",
    "    html.Div(id='color-box', style={'width': '200px', 'height': '100px', 'backgroundColor': 'lightgrey', 'marginTop': '20px'})\n",
    "])\n",
    "\n",
    "\n",
    "@app.callback(\n",
    "    [Output('click-count', 'children'),\n",
    "     Output('color-box', 'style')],\n",
    "    Input('click-button', 'n_clicks')\n",
    ")\n",
    "def update_output(n_clicks):\n",
    "    new_color = random_color()\n",
    "    return f'Button clicked {n_clicks} times', {'width': '200px', 'height': '100px', 'backgroundColor': new_color, 'marginTop': '20px'}\n",
    "\n",
    "\n",
    "if __name__ == '__main__':\n",
    "    app.run_server(debug=True  , port=8055)"
   ]
  },
  {
   "cell_type": "markdown",
   "id": "fc26e985-5c68-4163-bda0-3d051f0d29da",
   "metadata": {},
   "source": [
    "# 📌 Task 4: Interactive Scatter Plot with User Controls using NumPy & Dash\n",
    "\n",
    "## 🔹 Objective\n",
    "Build an interactive scatter plot where users can dynamically select:\n",
    "\n",
    "- The **X-axis feature** (e.g., numerical values from the dataset).\n",
    "- The **Y-axis feature** (another numerical column).\n",
    "\n",
    "We will generate synthetic data using NumPy instead of using built-in datasets like Iris.\n",
    "\n",
    "## 🔹 How It Works\n",
    "\n",
    "### 1️⃣ Generate Random Data using NumPy\n",
    "Create a dataset with **500 random points**:\n",
    "\n",
    "```python\n",
    "num_samples = 500\n",
    "\n",
    "# Feature_A: Normally distributed values around 50 with a standard deviation of 15 (X)\n",
    "np.random.normal(50, 15, num_samples)\n",
    "\n",
    "# Feature_B: Random values uniformly distributed between 10 and 100 (Y)\n",
    "np.random.uniform(10, 100, num_samples)\n",
    "\n",
    "# Feature_C: Random integer values between 1 and 100 (Z)\n",
    "np.random.randint(1, 100, num_samples)\n",
    "```\n",
    "\n",
    "### 2️⃣ Build an Interactive Dashboard using Dash\n",
    "- Users can choose **X and Y** or **Z and Y** features from dropdown menus.\n",
    "- A **scatter plot** dynamically updates based on the selections."
   ]
  },
  {
   "cell_type": "code",
   "execution_count": 4,
   "id": "0ab69c0b-9f53-4a2e-8eca-3788e12ae396",
   "metadata": {},
   "outputs": [
    {
     "data": {
      "text/html": [
       "\n",
       "        <iframe\n",
       "            width=\"100%\"\n",
       "            height=\"650\"\n",
       "            src=\"http://127.0.0.1:8056/\"\n",
       "            frameborder=\"0\"\n",
       "            allowfullscreen\n",
       "            \n",
       "        ></iframe>\n",
       "        "
      ],
      "text/plain": [
       "<IPython.lib.display.IFrame at 0x23a4072df10>"
      ]
     },
     "metadata": {},
     "output_type": "display_data"
    }
   ],
   "source": [
    "import dash\n",
    "from dash import dcc, html, Input, Output\n",
    "import plotly.express as px\n",
    "import numpy as np\n",
    "import pandas as pd\n",
    "\n",
    "\n",
    "num_samples = 500\n",
    "np.random.seed(42)\n",
    "data = pd.DataFrame({\n",
    "    'Feature_A': np.random.normal(50, 15, num_samples),\n",
    "    'Feature_B': np.random.uniform(10, 100, num_samples),\n",
    "    'Feature_C': np.random.randint(1, 100, num_samples)\n",
    "})\n",
    "\n",
    "\n",
    "app = dash.Dash(__name__)\n",
    "\n",
    "\n",
    "app.layout = html.Div([\n",
    "    html.H2(\"Interactive Scatter Plot with User Controls\"),\n",
    "    \n",
    "    html.Label(\"Select X-axis Feature:\"),\n",
    "    dcc.Dropdown(\n",
    "        id='x-axis-dropdown',\n",
    "        options=[{'label': col, 'value': col} for col in data.columns],\n",
    "        value='Feature_A',\n",
    "        clearable=False\n",
    "    ),\n",
    "    \n",
    "    html.Label(\"Select Y-axis Feature:\"),\n",
    "    dcc.Dropdown(\n",
    "        id='y-axis-dropdown',\n",
    "        options=[{'label': col, 'value': col} for col in data.columns],\n",
    "        value='Feature_B',\n",
    "        clearable=False\n",
    "    ),\n",
    "    \n",
    "    dcc.Graph(id='scatter-plot')\n",
    "])\n",
    "\n",
    "\n",
    "@app.callback(\n",
    "    Output('scatter-plot', 'figure'),\n",
    "    Input('x-axis-dropdown', 'value'),\n",
    "    Input('y-axis-dropdown', 'value')\n",
    ")\n",
    "def update_scatter(x_feature, y_feature):\n",
    "    fig = px.scatter(data, x=x_feature, y=y_feature, title=f'Scatter Plot: {x_feature} vs {y_feature}', \n",
    "                     labels={x_feature: x_feature, y_feature: y_feature})\n",
    "    return fig\n",
    "\n",
    "if __name__ == '__main__':\n",
    "    app.run_server(debug=True  , port=8056)"
   ]
  },
  {
   "cell_type": "code",
   "execution_count": null,
   "id": "a94fbb68-7cda-407e-a6f2-a2651523688d",
   "metadata": {},
   "outputs": [],
   "source": []
  },
  {
   "cell_type": "code",
   "execution_count": null,
   "id": "5bff0c24-8a23-4d67-8486-7babb49798f4",
   "metadata": {},
   "outputs": [],
   "source": []
  }
 ],
 "metadata": {
  "kernelspec": {
   "display_name": "Python 3 (ipykernel)",
   "language": "python",
   "name": "python3"
  },
  "language_info": {
   "codemirror_mode": {
    "name": "ipython",
    "version": 3
   },
   "file_extension": ".py",
   "mimetype": "text/x-python",
   "name": "python",
   "nbconvert_exporter": "python",
   "pygments_lexer": "ipython3",
   "version": "3.12.7"
  }
 },
 "nbformat": 4,
 "nbformat_minor": 5
}
